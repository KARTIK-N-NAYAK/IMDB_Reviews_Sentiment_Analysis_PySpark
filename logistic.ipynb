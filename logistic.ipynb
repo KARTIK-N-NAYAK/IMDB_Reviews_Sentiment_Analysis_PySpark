{
 "cells": [
  {
   "cell_type": "code",
   "execution_count": 9,
   "id": "48faad77",
   "metadata": {},
   "outputs": [],
   "source": [
    "import findspark\n",
    "findspark.init()\n",
    "import pyspark as ps\n",
    "import warnings\n",
    "from pyspark.sql import SQLContext\n",
    "from pyspark.ml.feature import HashingTF, IDF, Tokenizer\n",
    "from pyspark.ml.feature import StringIndexer\n",
    "from pyspark.ml import Pipeline\n",
    "from pyspark.ml.classification import LogisticRegression\n",
    "from pyspark.ml.feature import CountVectorizer\n",
    "from pyspark.ml.evaluation import BinaryClassificationEvaluator\n",
    "import pyspark.sql.functions as f\n",
    "import matplotlib.pyplot as plt"
   ]
  },
  {
   "cell_type": "code",
   "execution_count": 2,
   "id": "6bfd4122",
   "metadata": {},
   "outputs": [
    {
     "name": "stdout",
     "output_type": "stream",
     "text": [
      "Just created a SparkContext\n"
     ]
    }
   ],
   "source": [
    "try:\n",
    "    sc = ps.SparkContext(\"local[*]\",'test')\n",
    "    sqlContext = SQLContext(sc)\n",
    "    print(\"Just created a SparkContext\")\n",
    "except ValueError:\n",
    "    warnings.warn(\"SparkContext already exists in this scope\")"
   ]
  },
  {
   "cell_type": "code",
   "execution_count": 3,
   "id": "1e515b97",
   "metadata": {},
   "outputs": [
    {
     "name": "stdout",
     "output_type": "stream",
     "text": [
      "+--------------------+---------+\n",
      "|              review|sentiment|\n",
      "+--------------------+---------+\n",
      "|one review mentio...| positive|\n",
      "|wonder littl prod...| positive|\n",
      "|thought wonder wa...| positive|\n",
      "|basic there famil...| negative|\n",
      "|petter mattei lov...| positive|\n",
      "|probabl alltim fa...| positive|\n",
      "|sure would like s...| positive|\n",
      "|show amaz fresh i...| negative|\n",
      "|encourag posit co...| negative|\n",
      "|like origin gut w...| positive|\n",
      "|phil alien one qu...| negative|\n",
      "|saw movi came rec...| negative|\n",
      "|im big fan boll w...| negative|\n",
      "|cast play shakesp...| negative|\n",
      "|fantast movi thre...| positive|\n",
      "|kind drawn erot s...| negative|\n",
      "|film simpli remad...| positive|\n",
      "|movi made one top...| negative|\n",
      "|rememb filmit fir...| positive|\n",
      "|aw film must real...| negative|\n",
      "+--------------------+---------+\n",
      "only showing top 20 rows\n",
      "\n"
     ]
    },
    {
     "data": {
      "text/plain": [
       "50000"
      ]
     },
     "execution_count": 3,
     "metadata": {},
     "output_type": "execute_result"
    }
   ],
   "source": [
    "df = sqlContext.read.format('com.databricks.spark.csv').options(header='true', inferschema='true').load('data/cleanedReviews.csv')\n",
    "df = df.dropna()\n",
    "df.show()\n",
    "df.count()"
   ]
  },
  {
   "cell_type": "code",
   "execution_count": 4,
   "id": "fb196430",
   "metadata": {},
   "outputs": [
    {
     "name": "stdout",
     "output_type": "stream",
     "text": [
      "44948 5052\n"
     ]
    }
   ],
   "source": [
    "(train_set, val_set) = df.randomSplit([0.9, 0.1], seed = 300)\n",
    "print(train_set.count(),val_set.count())"
   ]
  },
  {
   "cell_type": "code",
   "execution_count": 5,
   "id": "c81d73cf",
   "metadata": {},
   "outputs": [],
   "source": [
    "def tf_idf(textCol,labelCol):\n",
    "    tokenizer = Tokenizer(inputCol=textCol, outputCol=\"words\")\n",
    "    hashtf = HashingTF(numFeatures=1000, inputCol=\"words\", outputCol='tf')\n",
    "    idf = IDF(inputCol='tf', outputCol=\"features\", minDocFreq=5)\n",
    "    label_stringIdx = StringIndexer(inputCol = labelCol, outputCol = \"label\")\n",
    "    lr = LogisticRegression(maxIter=100)\n",
    "    pipeline = Pipeline(stages=[tokenizer, hashtf, idf, label_stringIdx, lr])\n",
    "    return pipeline\n",
    "\n",
    "def cv_idf(textCol,labelCol):\n",
    "    tokenizer = Tokenizer(inputCol=textCol, outputCol=\"words\")\n",
    "    cv = CountVectorizer(vocabSize=1000, inputCol=\"words\", outputCol='cv')\n",
    "    idf = IDF(inputCol='cv', outputCol=\"features\", minDocFreq=5)\n",
    "    label_stringIdx = StringIndexer(inputCol = labelCol, outputCol = \"label\")\n",
    "    lr = LogisticRegression(maxIter=100)\n",
    "    pipeline = Pipeline(stages=[tokenizer, cv, idf, label_stringIdx, lr])\n",
    "    return pipeline"
   ]
  },
  {
   "cell_type": "code",
   "execution_count": 8,
   "id": "cca5098e",
   "metadata": {},
   "outputs": [
    {
     "name": "stdout",
     "output_type": "stream",
     "text": [
      "+--------------------+---------+--------------------+--------------------+--------------------+-----+--------------------+--------------------+----------+\n",
      "|              review|sentiment|               words|                  cv|            features|label|       rawPrediction|         probability|prediction|\n",
      "+--------------------+---------+--------------------+--------------------+--------------------+-----+--------------------+--------------------+----------+\n",
      "|` seen movi twice...| positive|[`, seen, movi, t...|(1000,[0,4,7,10,1...|(1000,[0,4,7,10,1...|  1.0|[0.13067514868892...|[0.53262237874848...|       0.0|\n",
      "|absolut best movi...| positive|[absolut, best, m...|(1000,[0,4,10,13,...|(1000,[0,4,10,13,...|  1.0|[-1.8992577419421...|[0.13019250638998...|       1.0|\n",
      "|absolut love film...| positive|[absolut, love, f...|(1000,[0,1,3,9,10...|(1000,[0,1,3,9,10...|  1.0|[-0.6418972003319...|[0.34481780067182...|       1.0|\n",
      "|absolut noth rede...| negative|[absolut, noth, r...|(1000,[1,2,8,12,1...|(1000,[1,2,8,12,1...|  0.0|[4.38952994595299...|[0.98774547686806...|       0.0|\n",
      "|absolut wonder dr...| positive|[absolut, wonder,...|(1000,[0,1,5,7,8,...|(1000,[0,1,5,7,8,...|  1.0|[-3.2035537759240...|[0.03903220672230...|       1.0|\n",
      "|act script hurlyb...| negative|[act, script, hur...|(1000,[1,2,3,7,9,...|(1000,[1,2,3,7,9,...|  0.0|[6.43915622623095...|[0.99840479449125...|       0.0|\n",
      "|actual thought co...| positive|[actual, thought,...|(1000,[0,1,2,4,5,...|(1000,[0,1,2,4,5,...|  1.0|[-1.6557921862302...|[0.16032765486881...|       1.0|\n",
      "|addit fact abysm ...| negative|[addit, fact, aby...|(1000,[1,6,21,25,...|(1000,[1,6,21,25,...|  0.0|[0.89181080698334...|[0.70926371816121...|       0.0|\n",
      "|admit first heard...| positive|[admit, first, he...|(1000,[1,2,4,6,7,...|(1000,[1,2,4,6,7,...|  1.0|[-14.060431810081...|[7.82765564271817...|       1.0|\n",
      "|admit reimagin or...| negative|[admit, reimagin,...|(1000,[0,1,2,3,4,...|(1000,[0,1,2,3,4,...|  0.0|[3.69341483104700...|[0.97571744454792...|       0.0|\n",
      "|agre comment saw ...| positive|[agre, comment, s...|(1000,[0,47,51,13...|(1000,[0,47,51,13...|  1.0|[-1.9009699095465...|[0.12999873912642...|       1.0|\n",
      "|agre previou auth...| positive|[agre, previou, a...|(1000,[0,5,8,10,3...|(1000,[0,5,8,10,3...|  1.0|[-3.7160135059996...|[0.02375284426161...|       1.0|\n",
      "|alfr hitchcock as...| positive|[alfr, hitchcock,...|(1000,[0,1,2,3,4,...|(1000,[0,1,2,3,4,...|  1.0|[-8.0737735134897...|[3.11508145698364...|       1.0|\n",
      "|although enjoy bi...| negative|[although, enjoy,...|(1000,[0,2,4,5,7,...|(1000,[0,2,4,5,7,...|  0.0|[-1.8148257634782...|[0.14005589940098...|       1.0|\n",
      "|alway difficult b...| positive|[alway, difficult...|(1000,[1,2,3,5,6,...|(1000,[1,2,3,5,6,...|  1.0|[-4.7392307550244...|[0.00866955247906...|       1.0|\n",
      "|amaz clicheridden...| negative|[amaz, clicheridd...|(1000,[1,3,9,29,3...|(1000,[1,3,9,29,3...|  0.0|[0.88642562543232...|[0.70815199675657...|       0.0|\n",
      "|american come exp...| negative|[american, come, ...|(1000,[7,10,25,30...|(1000,[7,10,25,30...|  0.0|[-1.0140623827032...|[0.26618558887959...|       1.0|\n",
      "|anyon edit film d...| negative|[anyon, edit, fil...|(1000,[0,1,4,10,1...|(1000,[0,1,4,10,1...|  0.0|[6.96627607313213...|[0.99905773008198...|       0.0|\n",
      "|anyon moder sensi...| positive|[anyon, moder, se...|(1000,[1,2,5,7,8,...|(1000,[1,2,5,7,8,...|  1.0|[-7.7367413047463...|[4.36301211462750...|       1.0|\n",
      "|anyon pay see tro...| negative|[anyon, pay, see,...|(1000,[0,2,3,6,7,...|(1000,[0,2,3,6,7,...|  0.0|[1.14650426612543...|[0.75887182776157...|       0.0|\n",
      "+--------------------+---------+--------------------+--------------------+--------------------+-----+--------------------+--------------------+----------+\n",
      "only showing top 20 rows\n",
      "\n",
      "0.8606492478226445 0.9317626425846586\n",
      "Wall time: 20.6 s\n"
     ]
    }
   ],
   "source": [
    "%%time\n",
    "pipelineFit = cv_idf(\"review\",\"sentiment\").fit(train_set)\n",
    "\n",
    "predictions = pipelineFit.transform(val_set)\n",
    "predictions.show()\n",
    "\n",
    "evaluator = BinaryClassificationEvaluator(rawPredictionCol=\"rawPrediction\")\n",
    "accuracy = predictions.filter(predictions.label == predictions.prediction).count() / float(val_set.count())\n",
    "roc_auc = evaluator.evaluate(predictions)\n",
    "\n",
    "print(accuracy,roc_auc)"
   ]
  },
  {
   "cell_type": "code",
   "execution_count": 10,
   "id": "fc9107bb",
   "metadata": {},
   "outputs": [
    {
     "name": "stdout",
     "output_type": "stream",
     "text": [
      "+-------+-----+\n",
      "|   word|count|\n",
      "+-------+-----+\n",
      "|   film|49021|\n",
      "|   movi|43129|\n",
      "|    one|26958|\n",
      "|   like|19885|\n",
      "|   time|15480|\n",
      "|    see|14687|\n",
      "|   good|14573|\n",
      "|  stori|13654|\n",
      "|charact|13630|\n",
      "|   make|13167|\n",
      "|  great|12798|\n",
      "|    get|12577|\n",
      "|  watch|12507|\n",
      "|   love|12064|\n",
      "|   well|11309|\n",
      "|   show|10813|\n",
      "| realli|10676|\n",
      "|   also|10550|\n",
      "|  would|10368|\n",
      "|   play| 9840|\n",
      "+-------+-----+\n",
      "only showing top 20 rows\n",
      "\n",
      "108517\n",
      "+-------+-----+\n",
      "|   word|count|\n",
      "+-------+-----+\n",
      "|   movi|55893|\n",
      "|   film|43095|\n",
      "|    one|25719|\n",
      "|   like|23944|\n",
      "|   make|15402|\n",
      "|    get|15142|\n",
      "|   even|15098|\n",
      "|  watch|14582|\n",
      "|   time|14360|\n",
      "|   good|14345|\n",
      "|    bad|14157|\n",
      "|charact|13944|\n",
      "|  would|13631|\n",
      "|    see|12889|\n",
      "| realli|12225|\n",
      "|   look|11315|\n",
      "|  scene|11013|\n",
      "|  stori|10582|\n",
      "|    act|10141|\n",
      "|   dont|10008|\n",
      "+-------+-----+\n",
      "only showing top 20 rows\n",
      "\n",
      "106286\n"
     ]
    },
    {
     "data": {
      "image/png": "[encoded data removed]",
      "text/plain": [
       "<Figure size 864x432 with 1 Axes>"
      ]
     },
     "metadata": {
      "needs_background": "light"
     },
     "output_type": "display_data"
    },
    {
     "data": {
      "image/png": "[encoded data removed]",
      "text/plain": [
       "<Figure size 864x432 with 1 Axes>"
      ]
     },
     "metadata": {
      "needs_background": "light"
     },
     "output_type": "display_data"
    }
   ],
   "source": [
    "def word_count(sentiment):\n",
    "    d=df.filter(f.col('sentiment')==sentiment)\n",
    "    plot = d.withColumn('word', f.explode(f.split(f.col('review'), ' ')))\\\n",
    "        .groupBy('word')\\\n",
    "        .count()\\\n",
    "        .sort('count', ascending=False)\n",
    "    plot.show()\n",
    "    print(plot.count())\n",
    "    pandas_df = plot.toPandas().head(5)\n",
    "    pandas_df.set_index('word', inplace=True)\n",
    "    pandas_df.plot(kind='bar',figsize=(12,6));\n",
    "\n",
    "word_count(\"positive\")\n",
    "word_count(\"negative\")"
   ]
  },
  {
   "cell_type": "code",
   "execution_count": 11,
   "id": "fa380e17",
   "metadata": {},
   "outputs": [
    {
     "name": "stdout",
     "output_type": "stream",
     "text": [
      "+----------+\n",
      "|avg(count)|\n",
      "+----------+\n",
      "| 118.62438|\n",
      "+----------+\n",
      "\n"
     ]
    }
   ],
   "source": [
    "df.withColumn('count', f.size(f.split(f.col('review'), ' '))).agg({\"count\": \"avg\"}).show()"
   ]
  },
  {
   "cell_type": "code",
   "execution_count": 12,
   "id": "538ba7d2",
   "metadata": {},
   "outputs": [
    {
     "name": "stdout",
     "output_type": "stream",
     "text": [
      "2542 2510 2568 2484\n"
     ]
    },
    {
     "data": {
      "image/png": "[encoded data removed]",
      "text/plain": [
       "<Figure size 864x432 with 1 Axes>"
      ]
     },
     "metadata": {
      "needs_background": "light"
     },
     "output_type": "display_data"
    }
   ],
   "source": [
    "posCount = val_set.filter(df.sentiment==\"positive\").count()\n",
    "negCount = val_set.filter(df.sentiment==\"negative\").count()\n",
    "posPred = predictions.filter(1.0 == predictions.prediction).count()\n",
    "negPred = predictions.filter(0.0 == predictions.prediction).count()\n",
    "print(posCount,negCount,posPred,negPred)\n",
    "\n",
    "fig = plt.figure(figsize=(12,6))\n",
    "ax = fig.add_axes([0,0,1,1])\n",
    "XAxis = ['Total Positive','Predicted Positive','Total Negative','Predicted Negative']\n",
    "Height = [posCount,posPred,negCount,negPred]\n",
    "ax.bar(XAxis,Height)\n",
    "plt.ylim(2400, 2600)\n",
    "plt.show()"
   ]
  },
  {
   "cell_type": "code",
   "execution_count": 13,
   "id": "ea93f69b",
   "metadata": {},
   "outputs": [
    {
     "name": "stdout",
     "output_type": "stream",
     "text": [
      "2542 2510 2203 2145\n"
     ]
    },
    {
     "data": {
      "image/png": "[encoded data removed]",
      "text/plain": [
       "<Figure size 432x288 with 1 Axes>"
      ]
     },
     "metadata": {
      "needs_background": "light"
     },
     "output_type": "display_data"
    }
   ],
   "source": [
    "pos = predictions.filter(predictions.label==1.0)\n",
    "neg = predictions.filter(predictions.label==0.0)\n",
    "posCount = pos.count()\n",
    "negCount = neg.count()\n",
    "posPred = pos.filter(1.0 == predictions.prediction).count()\n",
    "negPred = neg.filter(0.0 == predictions.prediction).count()\n",
    "print(posCount,negCount,posPred,negPred)\n",
    "\n",
    "fig = plt.figure()\n",
    "ax = fig.add_axes([0,0,1,1])\n",
    "XAxis = ['Predicted Positive','Predicted Negative']\n",
    "Height = [posPred/posCount,negPred/negCount]\n",
    "ax.bar(XAxis,Height)\n",
    "plt.ylim(0.7, 1)\n",
    "plt.show()"
   ]
  },
  {
   "cell_type": "code",
   "execution_count": 14,
   "id": "3ee6be64",
   "metadata": {},
   "outputs": [
    {
     "name": "stdout",
     "output_type": "stream",
     "text": [
      "Positive review\n",
      "Negative review\n"
     ]
    }
   ],
   "source": [
    "def predict_sentence(sentence):\n",
    "    columns=[\"review\",\"sentiment\"]\n",
    "    data=[(sentence,\"positive\")]\n",
    "    sentenceDF = sqlContext.createDataFrame(data).toDF(*columns)\n",
    "    prediction = pipelineFit.transform(sentenceDF)\n",
    "    if prediction.head().prediction==1.0:\n",
    "        print(\"Positive review\")\n",
    "    else:\n",
    "        print(\"Negative review\")\n",
    "\n",
    "positive_sentence = '''It is a very good movie'''\n",
    "predict_sentence(positive_sentence)\n",
    "negative_sentence = '''This movie will be flop. Its boring'''\n",
    "predict_sentence(negative_sentence)"
   ]
  },
  {
   "cell_type": "code",
   "execution_count": 15,
   "id": "0b869132",
   "metadata": {},
   "outputs": [],
   "source": [
    "sc.stop()"
   ]
  },
  {
   "cell_type": "code",
   "execution_count": null,
   "id": "34dd548a",
   "metadata": {},
   "outputs": [],
   "source": []
  }
 ],
 "metadata": {
  "kernelspec": {
   "display_name": "Python 3",
   "language": "python",
   "name": "python3"
  },
  "language_info": {
   "codemirror_mode": {
    "name": "ipython",
    "version": 3
   },
   "file_extension": ".py",
   "mimetype": "text/x-python",
   "name": "python",
   "nbconvert_exporter": "python",
   "pygments_lexer": "ipython3",
   "version": "3.8.6"
  }
 },
 "nbformat": 4,
 "nbformat_minor": 5
}
