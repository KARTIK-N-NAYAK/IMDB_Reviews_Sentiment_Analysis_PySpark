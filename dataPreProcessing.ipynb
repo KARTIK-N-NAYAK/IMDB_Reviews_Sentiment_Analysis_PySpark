{
 "cells": [
  {
   "cell_type": "markdown",
   "id": "a968cd6a",
   "metadata": {},
   "source": [
    "### Import Required Libraries"
   ]
  },
  {
   "cell_type": "code",
   "execution_count": 1,
   "id": "9e828f73",
   "metadata": {},
   "outputs": [],
   "source": [
    "import pandas as pd\n",
    "import nltk\n",
    "from nltk.corpus import stopwords\n",
    "from nltk.tokenize.toktok import ToktokTokenizer\n",
    "from nltk.stem import WordNetLemmatizer\n",
    "from bs4 import BeautifulSoup\n",
    "import re,string,unicodedata\n",
    "import matplotlib.pyplot as plt"
   ]
  },
  {
   "cell_type": "markdown",
   "id": "7a6f67a4",
   "metadata": {},
   "source": [
    "### Import Dataset"
   ]
  },
  {
   "cell_type": "code",
   "execution_count": 2,
   "id": "5dbd8f66",
   "metadata": {},
   "outputs": [],
   "source": [
    "imdb_data=pd.read_csv('Data/IMDB_Dataset.csv')"
   ]
  },
  {
   "cell_type": "markdown",
   "id": "30232bc8",
   "metadata": {},
   "source": [
    "### Initialise tockeniser and stopwords"
   ]
  },
  {
   "cell_type": "code",
   "execution_count": 3,
   "id": "a0914dd5",
   "metadata": {},
   "outputs": [],
   "source": [
    "tokenizer=ToktokTokenizer()\n",
    "stopword_list=stopwords.words('english')\n",
    "stop=set(stopword_list)"
   ]
  },
  {
   "cell_type": "markdown",
   "id": "2656b83e",
   "metadata": {},
   "source": [
    "### Define cleaner function"
   ]
  },
  {
   "cell_type": "markdown",
   "id": "b1187863",
   "metadata": {},
   "source": [
    "The cleaner function use Beautiful Soup html parser and removes html tags in the review. Then we use refular expression to remove brackets and special characters as these does have no effect in sentiment analysis model. Then we tokenise the reviews and convert each token to lower case letter and remove any white spaces. then we filter the tockens using the stopwords. Then we stem the tokens using nltk PorterStemmer. Stemming is the process of producing morphological variants of a root/base word."
   ]
  },
  {
   "cell_type": "code",
   "execution_count": 4,
   "id": "43de4f63",
   "metadata": {},
   "outputs": [],
   "source": [
    "def cleaner(text):\n",
    "    soup = BeautifulSoup(text, \"html.parser\")\n",
    "    text = soup.get_text()\n",
    "    text = re.sub(r'\\[[^]]*\\]', '', text)\n",
    "    text = re.sub(r'[^a-zA-z\\s]','',text)\n",
    "    tokens = tokenizer.tokenize(text)\n",
    "    tokens = [token.lower().strip() for token in tokens]\n",
    "    filtered_tokens = [token for token in tokens if token not in stopword_list]\n",
    "    text = ' '.join(filtered_tokens)\n",
    "    ps=nltk.porter.PorterStemmer()\n",
    "    text = ' '.join([ps.stem(word) for word in text.split()])\n",
    "    return text"
   ]
  },
  {
   "cell_type": "markdown",
   "id": "eb022044",
   "metadata": {},
   "source": [
    "### Store Processed reviews"
   ]
  },
  {
   "cell_type": "code",
   "execution_count": 5,
   "id": "e29ced91",
   "metadata": {},
   "outputs": [],
   "source": [
    "imdb_data['review']=imdb_data['review'].apply(cleaner)\n",
    "\n",
    "imdb_data.to_csv('data/cleanedReviews.csv',index=False)"
   ]
  },
  {
   "cell_type": "markdown",
   "id": "d8af90b6",
   "metadata": {},
   "source": [
    "### Looking into data"
   ]
  },
  {
   "cell_type": "code",
   "execution_count": 6,
   "id": "4aadfa49",
   "metadata": {
    "scrolled": true
   },
   "outputs": [
    {
     "data": {
      "text/html": [
       "<div>\n",
       "<style scoped>\n",
       "    .dataframe tbody tr th:only-of-type {\n",
       "        vertical-align: middle;\n",
       "    }\n",
       "\n",
       "    .dataframe tbody tr th {\n",
       "        vertical-align: top;\n",
       "    }\n",
       "\n",
       "    .dataframe thead th {\n",
       "        text-align: right;\n",
       "    }\n",
       "</style>\n",
       "<table border=\"1\" class=\"dataframe\">\n",
       "  <thead>\n",
       "    <tr style=\"text-align: right;\">\n",
       "      <th></th>\n",
       "      <th>review</th>\n",
       "      <th>sentiment</th>\n",
       "    </tr>\n",
       "  </thead>\n",
       "  <tbody>\n",
       "    <tr>\n",
       "      <th>0</th>\n",
       "      <td>one review mention watch oz episod youll hook ...</td>\n",
       "      <td>positive</td>\n",
       "    </tr>\n",
       "    <tr>\n",
       "      <th>1</th>\n",
       "      <td>wonder littl product film techniqu unassum old...</td>\n",
       "      <td>positive</td>\n",
       "    </tr>\n",
       "    <tr>\n",
       "      <th>2</th>\n",
       "      <td>thought wonder way spend time hot summer weeke...</td>\n",
       "      <td>positive</td>\n",
       "    </tr>\n",
       "    <tr>\n",
       "      <th>3</th>\n",
       "      <td>basic there famili littl boy jake think there ...</td>\n",
       "      <td>negative</td>\n",
       "    </tr>\n",
       "    <tr>\n",
       "      <th>4</th>\n",
       "      <td>petter mattei love time money visual stun film...</td>\n",
       "      <td>positive</td>\n",
       "    </tr>\n",
       "  </tbody>\n",
       "</table>\n",
       "</div>"
      ],
      "text/plain": [
       "                                              review sentiment\n",
       "0  one review mention watch oz episod youll hook ...  positive\n",
       "1  wonder littl product film techniqu unassum old...  positive\n",
       "2  thought wonder way spend time hot summer weeke...  positive\n",
       "3  basic there famili littl boy jake think there ...  negative\n",
       "4  petter mattei love time money visual stun film...  positive"
      ]
     },
     "execution_count": 6,
     "metadata": {},
     "output_type": "execute_result"
    }
   ],
   "source": [
    "imdb_data.head()"
   ]
  },
  {
   "cell_type": "code",
   "execution_count": 7,
   "id": "adee653a",
   "metadata": {},
   "outputs": [
    {
     "data": {
      "text/html": [
       "<div>\n",
       "<style scoped>\n",
       "    .dataframe tbody tr th:only-of-type {\n",
       "        vertical-align: middle;\n",
       "    }\n",
       "\n",
       "    .dataframe tbody tr th {\n",
       "        vertical-align: top;\n",
       "    }\n",
       "\n",
       "    .dataframe thead th {\n",
       "        text-align: right;\n",
       "    }\n",
       "</style>\n",
       "<table border=\"1\" class=\"dataframe\">\n",
       "  <thead>\n",
       "    <tr style=\"text-align: right;\">\n",
       "      <th></th>\n",
       "      <th>review</th>\n",
       "      <th>sentiment</th>\n",
       "    </tr>\n",
       "  </thead>\n",
       "  <tbody>\n",
       "    <tr>\n",
       "      <th>count</th>\n",
       "      <td>50000</td>\n",
       "      <td>50000</td>\n",
       "    </tr>\n",
       "    <tr>\n",
       "      <th>unique</th>\n",
       "      <td>49577</td>\n",
       "      <td>2</td>\n",
       "    </tr>\n",
       "    <tr>\n",
       "      <th>top</th>\n",
       "      <td>love today show varieti sole cook would great ...</td>\n",
       "      <td>positive</td>\n",
       "    </tr>\n",
       "    <tr>\n",
       "      <th>freq</th>\n",
       "      <td>5</td>\n",
       "      <td>25000</td>\n",
       "    </tr>\n",
       "  </tbody>\n",
       "</table>\n",
       "</div>"
      ],
      "text/plain": [
       "                                                   review sentiment\n",
       "count                                               50000     50000\n",
       "unique                                              49577         2\n",
       "top     love today show varieti sole cook would great ...  positive\n",
       "freq                                                    5     25000"
      ]
     },
     "execution_count": 7,
     "metadata": {},
     "output_type": "execute_result"
    }
   ],
   "source": [
    "imdb_data.describe()"
   ]
  },
  {
   "cell_type": "code",
   "execution_count": 8,
   "id": "b6ae7af4",
   "metadata": {},
   "outputs": [
    {
     "data": {
      "image/png": "[encoded data removed]",
      "text/plain": [
       "<Figure size 216x216 with 1 Axes>"
      ]
     },
     "metadata": {
      "needs_background": "light"
     },
     "output_type": "display_data"
    }
   ],
   "source": [
    "posCount = imdb_data[imdb_data.sentiment==\"positive\"]['sentiment'].count()\n",
    "negCount = imdb_data[imdb_data.sentiment==\"negative\"]['sentiment'].count()\n",
    "fig = plt.figure(figsize=(3,3))\n",
    "ax = fig.add_axes([0,0,1,1])\n",
    "\n",
    "XAxis = ['Total Positive','Total Negative']\n",
    "Height = [posCount,negCount]\n",
    "ax.bar(XAxis,Height)\n",
    "plt.show()"
   ]
  },
  {
   "cell_type": "code",
   "execution_count": null,
   "id": "0e950791",
   "metadata": {},
   "outputs": [],
   "source": []
  }
 ],
 "metadata": {
  "kernelspec": {
   "display_name": "Python 3",
   "language": "python",
   "name": "python3"
  },
  "language_info": {
   "codemirror_mode": {
    "name": "ipython",
    "version": 3
   },
   "file_extension": ".py",
   "mimetype": "text/x-python",
   "name": "python",
   "nbconvert_exporter": "python",
   "pygments_lexer": "ipython3",
   "version": "3.9.5"
  }
 },
 "nbformat": 4,
 "nbformat_minor": 5
}
